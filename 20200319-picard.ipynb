{
 "cells": [
  {
   "cell_type": "code",
   "execution_count": 1,
   "metadata": {},
   "outputs": [],
   "source": [
    "import gcsfs\n",
    "from scipy.io import loadmat\n",
    "from scipy.signal import resample\n",
    "from scipy.stats import zscore\n",
    "import matplotlib.pyplot as plt\n",
    "import os.path as op\n",
    "import numpy as np\n",
    "from neurodsp.filt.filter import filter_signal"
   ]
  },
  {
   "cell_type": "code",
   "execution_count": 2,
   "metadata": {},
   "outputs": [],
   "source": [
    "fs = gcsfs.GCSFileSystem(project='learning-2-learn-221016')"
   ]
  },
  {
   "cell_type": "code",
   "execution_count": 3,
   "metadata": {},
   "outputs": [],
   "source": [
    "path = 'learning2learn/Buffalo/wcst-nhp/SA/sess-20180918/ephys/'"
   ]
  },
  {
   "cell_type": "code",
   "execution_count": null,
   "metadata": {},
   "outputs": [
    {
     "name": "stdout",
     "output_type": "stream",
     "text": [
      "Opening learning2learn/Buffalo/wcst-nhp/SA/sess-20180918/ephys/chan-1/sub-SA_sess-20180918_chan-1.mat\n",
      "Opening learning2learn/Buffalo/wcst-nhp/SA/sess-20180918/ephys/chan-2/sub-SA_sess-20180918_chan-2.mat\n",
      "Opening learning2learn/Buffalo/wcst-nhp/SA/sess-20180918/ephys/chan-3/sub-SA_sess-20180918_chan-3.mat\n",
      "Opening learning2learn/Buffalo/wcst-nhp/SA/sess-20180918/ephys/chan-4/sub-SA_sess-20180918_chan-4.mat\n",
      "Opening learning2learn/Buffalo/wcst-nhp/SA/sess-20180918/ephys/chan-5/sub-SA_sess-20180918_chan-5.mat\n",
      "Opening learning2learn/Buffalo/wcst-nhp/SA/sess-20180918/ephys/chan-6/sub-SA_sess-20180918_chan-6.mat\n",
      "Opening learning2learn/Buffalo/wcst-nhp/SA/sess-20180918/ephys/chan-7/sub-SA_sess-20180918_chan-7.mat\n",
      "Opening learning2learn/Buffalo/wcst-nhp/SA/sess-20180918/ephys/chan-8/sub-SA_sess-20180918_chan-8.mat\n",
      "Opening learning2learn/Buffalo/wcst-nhp/SA/sess-20180918/ephys/chan-9/sub-SA_sess-20180918_chan-9.mat\n",
      "Opening learning2learn/Buffalo/wcst-nhp/SA/sess-20180918/ephys/chan-10/sub-SA_sess-20180918_chan-10.mat\n",
      "Opening learning2learn/Buffalo/wcst-nhp/SA/sess-20180918/ephys/chan-11/sub-SA_sess-20180918_chan-11.mat\n",
      "Opening learning2learn/Buffalo/wcst-nhp/SA/sess-20180918/ephys/chan-12/sub-SA_sess-20180918_chan-12.mat\n",
      "Opening learning2learn/Buffalo/wcst-nhp/SA/sess-20180918/ephys/chan-13/sub-SA_sess-20180918_chan-13.mat\n",
      "Opening learning2learn/Buffalo/wcst-nhp/SA/sess-20180918/ephys/chan-14/sub-SA_sess-20180918_chan-14.mat\n",
      "Opening learning2learn/Buffalo/wcst-nhp/SA/sess-20180918/ephys/chan-15/sub-SA_sess-20180918_chan-15.mat\n",
      "Opening learning2learn/Buffalo/wcst-nhp/SA/sess-20180918/ephys/chan-16/sub-SA_sess-20180918_chan-16.mat\n",
      "Opening learning2learn/Buffalo/wcst-nhp/SA/sess-20180918/ephys/chan-17/sub-SA_sess-20180918_chan-17.mat\n",
      "Opening learning2learn/Buffalo/wcst-nhp/SA/sess-20180918/ephys/chan-18/sub-SA_sess-20180918_chan-18.mat\n",
      "Opening learning2learn/Buffalo/wcst-nhp/SA/sess-20180918/ephys/chan-19/sub-SA_sess-20180918_chan-19.mat\n",
      "Opening learning2learn/Buffalo/wcst-nhp/SA/sess-20180918/ephys/chan-20/sub-SA_sess-20180918_chan-20.mat\n",
      "Opening learning2learn/Buffalo/wcst-nhp/SA/sess-20180918/ephys/chan-21/sub-SA_sess-20180918_chan-21.mat\n",
      "Opening learning2learn/Buffalo/wcst-nhp/SA/sess-20180918/ephys/chan-22/sub-SA_sess-20180918_chan-22.mat\n",
      "Opening learning2learn/Buffalo/wcst-nhp/SA/sess-20180918/ephys/chan-23/sub-SA_sess-20180918_chan-23.mat\n",
      "Opening learning2learn/Buffalo/wcst-nhp/SA/sess-20180918/ephys/chan-24/sub-SA_sess-20180918_chan-24.mat\n",
      "Opening learning2learn/Buffalo/wcst-nhp/SA/sess-20180918/ephys/chan-25/sub-SA_sess-20180918_chan-25.mat\n",
      "Opening learning2learn/Buffalo/wcst-nhp/SA/sess-20180918/ephys/chan-26/sub-SA_sess-20180918_chan-26.mat\n",
      "Opening learning2learn/Buffalo/wcst-nhp/SA/sess-20180918/ephys/chan-27/sub-SA_sess-20180918_chan-27.mat\n",
      "Opening learning2learn/Buffalo/wcst-nhp/SA/sess-20180918/ephys/chan-28/sub-SA_sess-20180918_chan-28.mat\n",
      "Opening learning2learn/Buffalo/wcst-nhp/SA/sess-20180918/ephys/chan-29/sub-SA_sess-20180918_chan-29.mat\n"
     ]
    }
   ],
   "source": [
    "data = np.empty((124, 11796177))\n",
    "\n",
    "for chan in range(1, 125):\n",
    "    fname = op.join(path, f'chan-{chan}', f'sub-SA_sess-20180918_chan-{chan}.mat')\n",
    "    print(f\"Opening {fname}\")\n",
    "    with fs.open(fname) as f_chan:\n",
    "        f_chan = loadmat(f_chan)\n",
    "        data[chan-1] = f_chan['data'].squeeze()"
   ]
  },
  {
   "cell_type": "code",
   "execution_count": null,
   "metadata": {
    "scrolled": false
   },
   "outputs": [],
   "source": [
    "data = resample(data, data.shape[-1]//10, axis=-1)"
   ]
  },
  {
   "cell_type": "code",
   "execution_count": null,
   "metadata": {},
   "outputs": [],
   "source": [
    "from picard import picard"
   ]
  },
  {
   "cell_type": "code",
   "execution_count": null,
   "metadata": {},
   "outputs": [],
   "source": [
    "K1, W1, Y1 = picard(data[:, :data.shape[-1]//2], n_components=10)\n",
    "K2, W2, Y2 = picard(data[:, data.shape[-1]//2:], n_components=10)"
   ]
  },
  {
   "cell_type": "code",
   "execution_count": null,
   "metadata": {},
   "outputs": [],
   "source": [
    "def mixing(W, K):\n",
    "    w = np.dot(W, K)\n",
    "    return np.dot(w.T, np.linalg.inv(np.dot(w, w.T)))\n",
    "    "
   ]
  },
  {
   "cell_type": "code",
   "execution_count": null,
   "metadata": {},
   "outputs": [],
   "source": [
    "mixing1 = mixing(W1, K1)\n",
    "mixing2 = mixing(W2, K2)\n"
   ]
  }
 ],
 "metadata": {
  "kernelspec": {
   "display_name": "l2l",
   "language": "python",
   "name": "l2lhub"
  },
  "language_info": {
   "codemirror_mode": {
    "name": "ipython",
    "version": 3
   },
   "file_extension": ".py",
   "mimetype": "text/x-python",
   "name": "python",
   "nbconvert_exporter": "python",
   "pygments_lexer": "ipython3",
   "version": "3.6.10"
  }
 },
 "nbformat": 4,
 "nbformat_minor": 4
}
