{
 "cells": [
  {
   "cell_type": "code",
   "execution_count": 1,
   "metadata": {},
   "outputs": [],
   "source": [
    "import numpy as np\n",
    "import matplotlib.pyplot as plt\n",
    "from glob import glob\n",
    "import gcsfs\n",
    "import json\n",
    "import h5py\n",
    "from scipy.io import loadmat"
   ]
  },
  {
   "cell_type": "code",
   "execution_count": 2,
   "metadata": {},
   "outputs": [],
   "source": [
    "fs = gcsfs.GCSFileSystem(project='learning-2-learn-221016', token=\"cache\")"
   ]
  },
  {
   "cell_type": "code",
   "execution_count": 3,
   "metadata": {},
   "outputs": [],
   "source": [
    "folderName = 'learning2learn/Buffalo/wcst-nhp/derivatives/SA/sess-20180918/ephys'"
   ]
  },
  {
   "cell_type": "code",
   "execution_count": 4,
   "metadata": {},
   "outputs": [],
   "source": [
    "datapre = fs.glob(folderName + '/*/notch-mne/HPF-30/LPF-70/*.mat')\n",
    "np.save('data_list_pre_30-70', datapre)"
   ]
  },
  {
   "cell_type": "code",
   "execution_count": 5,
   "metadata": {},
   "outputs": [],
   "source": [
    "filenames = np.load('data_list_pre_30-70.npy')"
   ]
  },
  {
   "cell_type": "code",
   "execution_count": 6,
   "metadata": {},
   "outputs": [],
   "source": [
    "bad_channels = ['61a', '41a', '34', '53a', '94', '55', '50a', '46a', '72', '114','68', '34a', '81', '78', '38a', '44', '59a', '46', '15a', '73','31a', '11a', '17a', '12a', '19a']"
   ]
  },
  {
   "cell_type": "code",
   "execution_count": 7,
   "metadata": {},
   "outputs": [],
   "source": [
    "def open_h5py_file(file, fs):\n",
    "    \"\"\"\n",
    "    Gets the h5py file from online storage. The file must include only one datafile.\n",
    "\n",
    "    Parameters\n",
    "    ----------\n",
    "    file: the location of the file to be opened.\n",
    "    fs: the file system object\n",
    "\n",
    "    Returns\n",
    "    -------\n",
    "    Data file\n",
    "    \"\"\"\n",
    "    with fs.open(file) as f_chan:\n",
    "        f_chan = h5py.File(f_chan, 'r')\n",
    "        keys = list(f_chan.keys())\n",
    "        datakeys = [i for i in keys if '__' not in i]\n",
    "        mwt_chan = f_chan[datakeys[0]]\n",
    "        mwt_chan = mwt_chan[:].squeeze()\n",
    "    return mwt_chan"
   ]
  },
  {
   "cell_type": "code",
   "execution_count": 27,
   "metadata": {},
   "outputs": [],
   "source": [
    "temp = np.array([f for f in filenames if 'a' not in f.split('/chan-')[1].split('/')[0]])\n",
    "filenames_1 = np.array([f for f in temp if f.split('/chan-')[1].split('/')[0] not in bad_channels])"
   ]
  },
  {
   "cell_type": "code",
   "execution_count": 28,
   "metadata": {},
   "outputs": [],
   "source": [
    "temp = np.array([f for f in filenames if 'a' in f.split('/chan-')[1].split('/')[0]])\n",
    "filenames_2 = np.array([f for f in temp if f.split('/chan-')[1].split('/')[0] not in bad_channels])"
   ]
  },
  {
   "cell_type": "code",
   "execution_count": 31,
   "metadata": {
    "collapsed": true
   },
   "outputs": [
    {
     "name": "stdout",
     "output_type": "stream",
     "text": [
      "0 Opening learning2learn/Buffalo/wcst-nhp/derivatives/SA/sess-20180918/ephys/chan-1/notch-mne/HPF-30/LPF-70/sub-SA_sess-20180918_chan-1_notch-mne_HPF-30_LPF-70.mat\n",
      "1 Opening learning2learn/Buffalo/wcst-nhp/derivatives/SA/sess-20180918/ephys/chan-10/notch-mne/HPF-30/LPF-70/sub-SA_sess-20180918_chan-10_notch-mne_HPF-30_LPF-70.mat\n",
      "2 Opening learning2learn/Buffalo/wcst-nhp/derivatives/SA/sess-20180918/ephys/chan-100/notch-mne/HPF-30/LPF-70/sub-SA_sess-20180918_chan-100_notch-mne_HPF-30_LPF-70.mat\n",
      "3 Opening learning2learn/Buffalo/wcst-nhp/derivatives/SA/sess-20180918/ephys/chan-101/notch-mne/HPF-30/LPF-70/sub-SA_sess-20180918_chan-101_notch-mne_HPF-30_LPF-70.mat\n",
      "4 Opening learning2learn/Buffalo/wcst-nhp/derivatives/SA/sess-20180918/ephys/chan-102/notch-mne/HPF-30/LPF-70/sub-SA_sess-20180918_chan-102_notch-mne_HPF-30_LPF-70.mat\n",
      "5 Opening learning2learn/Buffalo/wcst-nhp/derivatives/SA/sess-20180918/ephys/chan-103/notch-mne/HPF-30/LPF-70/sub-SA_sess-20180918_chan-103_notch-mne_HPF-30_LPF-70.mat\n",
      "6 Opening learning2learn/Buffalo/wcst-nhp/derivatives/SA/sess-20180918/ephys/chan-104/notch-mne/HPF-30/LPF-70/sub-SA_sess-20180918_chan-104_notch-mne_HPF-30_LPF-70.mat\n",
      "7 Opening learning2learn/Buffalo/wcst-nhp/derivatives/SA/sess-20180918/ephys/chan-105/notch-mne/HPF-30/LPF-70/sub-SA_sess-20180918_chan-105_notch-mne_HPF-30_LPF-70.mat\n",
      "8 Opening learning2learn/Buffalo/wcst-nhp/derivatives/SA/sess-20180918/ephys/chan-106/notch-mne/HPF-30/LPF-70/sub-SA_sess-20180918_chan-106_notch-mne_HPF-30_LPF-70.mat\n",
      "9 Opening learning2learn/Buffalo/wcst-nhp/derivatives/SA/sess-20180918/ephys/chan-107/notch-mne/HPF-30/LPF-70/sub-SA_sess-20180918_chan-107_notch-mne_HPF-30_LPF-70.mat\n",
      "10 Opening learning2learn/Buffalo/wcst-nhp/derivatives/SA/sess-20180918/ephys/chan-108/notch-mne/HPF-30/LPF-70/sub-SA_sess-20180918_chan-108_notch-mne_HPF-30_LPF-70.mat\n",
      "11 Opening learning2learn/Buffalo/wcst-nhp/derivatives/SA/sess-20180918/ephys/chan-109/notch-mne/HPF-30/LPF-70/sub-SA_sess-20180918_chan-109_notch-mne_HPF-30_LPF-70.mat\n",
      "12 Opening learning2learn/Buffalo/wcst-nhp/derivatives/SA/sess-20180918/ephys/chan-11/notch-mne/HPF-30/LPF-70/sub-SA_sess-20180918_chan-11_notch-mne_HPF-30_LPF-70.mat\n",
      "13 Opening learning2learn/Buffalo/wcst-nhp/derivatives/SA/sess-20180918/ephys/chan-110/notch-mne/HPF-30/LPF-70/sub-SA_sess-20180918_chan-110_notch-mne_HPF-30_LPF-70.mat\n",
      "14 Opening learning2learn/Buffalo/wcst-nhp/derivatives/SA/sess-20180918/ephys/chan-111/notch-mne/HPF-30/LPF-70/sub-SA_sess-20180918_chan-111_notch-mne_HPF-30_LPF-70.mat\n",
      "15 Opening learning2learn/Buffalo/wcst-nhp/derivatives/SA/sess-20180918/ephys/chan-112/notch-mne/HPF-30/LPF-70/sub-SA_sess-20180918_chan-112_notch-mne_HPF-30_LPF-70.mat\n",
      "16 Opening learning2learn/Buffalo/wcst-nhp/derivatives/SA/sess-20180918/ephys/chan-113/notch-mne/HPF-30/LPF-70/sub-SA_sess-20180918_chan-113_notch-mne_HPF-30_LPF-70.mat\n",
      "17 Opening learning2learn/Buffalo/wcst-nhp/derivatives/SA/sess-20180918/ephys/chan-115/notch-mne/HPF-30/LPF-70/sub-SA_sess-20180918_chan-115_notch-mne_HPF-30_LPF-70.mat\n",
      "18 Opening learning2learn/Buffalo/wcst-nhp/derivatives/SA/sess-20180918/ephys/chan-116/notch-mne/HPF-30/LPF-70/sub-SA_sess-20180918_chan-116_notch-mne_HPF-30_LPF-70.mat\n",
      "19 Opening learning2learn/Buffalo/wcst-nhp/derivatives/SA/sess-20180918/ephys/chan-117/notch-mne/HPF-30/LPF-70/sub-SA_sess-20180918_chan-117_notch-mne_HPF-30_LPF-70.mat\n",
      "20 Opening learning2learn/Buffalo/wcst-nhp/derivatives/SA/sess-20180918/ephys/chan-118/notch-mne/HPF-30/LPF-70/sub-SA_sess-20180918_chan-118_notch-mne_HPF-30_LPF-70.mat\n",
      "21 Opening learning2learn/Buffalo/wcst-nhp/derivatives/SA/sess-20180918/ephys/chan-119/notch-mne/HPF-30/LPF-70/sub-SA_sess-20180918_chan-119_notch-mne_HPF-30_LPF-70.mat\n",
      "22 Opening learning2learn/Buffalo/wcst-nhp/derivatives/SA/sess-20180918/ephys/chan-12/notch-mne/HPF-30/LPF-70/sub-SA_sess-20180918_chan-12_notch-mne_HPF-30_LPF-70.mat\n",
      "23 Opening learning2learn/Buffalo/wcst-nhp/derivatives/SA/sess-20180918/ephys/chan-120/notch-mne/HPF-30/LPF-70/sub-SA_sess-20180918_chan-120_notch-mne_HPF-30_LPF-70.mat\n",
      "24 Opening learning2learn/Buffalo/wcst-nhp/derivatives/SA/sess-20180918/ephys/chan-121/notch-mne/HPF-30/LPF-70/sub-SA_sess-20180918_chan-121_notch-mne_HPF-30_LPF-70.mat\n",
      "25 Opening learning2learn/Buffalo/wcst-nhp/derivatives/SA/sess-20180918/ephys/chan-122/notch-mne/HPF-30/LPF-70/sub-SA_sess-20180918_chan-122_notch-mne_HPF-30_LPF-70.mat\n",
      "26 Opening learning2learn/Buffalo/wcst-nhp/derivatives/SA/sess-20180918/ephys/chan-123/notch-mne/HPF-30/LPF-70/sub-SA_sess-20180918_chan-123_notch-mne_HPF-30_LPF-70.mat\n",
      "27 Opening learning2learn/Buffalo/wcst-nhp/derivatives/SA/sess-20180918/ephys/chan-124/notch-mne/HPF-30/LPF-70/sub-SA_sess-20180918_chan-124_notch-mne_HPF-30_LPF-70.mat\n",
      "28 Opening learning2learn/Buffalo/wcst-nhp/derivatives/SA/sess-20180918/ephys/chan-13/notch-mne/HPF-30/LPF-70/sub-SA_sess-20180918_chan-13_notch-mne_HPF-30_LPF-70.mat\n",
      "29 Opening learning2learn/Buffalo/wcst-nhp/derivatives/SA/sess-20180918/ephys/chan-14/notch-mne/HPF-30/LPF-70/sub-SA_sess-20180918_chan-14_notch-mne_HPF-30_LPF-70.mat\n",
      "30 Opening learning2learn/Buffalo/wcst-nhp/derivatives/SA/sess-20180918/ephys/chan-15/notch-mne/HPF-30/LPF-70/sub-SA_sess-20180918_chan-15_notch-mne_HPF-30_LPF-70.mat\n",
      "31 Opening learning2learn/Buffalo/wcst-nhp/derivatives/SA/sess-20180918/ephys/chan-16/notch-mne/HPF-30/LPF-70/sub-SA_sess-20180918_chan-16_notch-mne_HPF-30_LPF-70.mat\n",
      "32 Opening learning2learn/Buffalo/wcst-nhp/derivatives/SA/sess-20180918/ephys/chan-17/notch-mne/HPF-30/LPF-70/sub-SA_sess-20180918_chan-17_notch-mne_HPF-30_LPF-70.mat\n",
      "33 Opening learning2learn/Buffalo/wcst-nhp/derivatives/SA/sess-20180918/ephys/chan-18/notch-mne/HPF-30/LPF-70/sub-SA_sess-20180918_chan-18_notch-mne_HPF-30_LPF-70.mat\n",
      "34 Opening learning2learn/Buffalo/wcst-nhp/derivatives/SA/sess-20180918/ephys/chan-19/notch-mne/HPF-30/LPF-70/sub-SA_sess-20180918_chan-19_notch-mne_HPF-30_LPF-70.mat\n",
      "35 Opening learning2learn/Buffalo/wcst-nhp/derivatives/SA/sess-20180918/ephys/chan-2/notch-mne/HPF-30/LPF-70/sub-SA_sess-20180918_chan-2_notch-mne_HPF-30_LPF-70.mat\n",
      "36 Opening learning2learn/Buffalo/wcst-nhp/derivatives/SA/sess-20180918/ephys/chan-20/notch-mne/HPF-30/LPF-70/sub-SA_sess-20180918_chan-20_notch-mne_HPF-30_LPF-70.mat\n",
      "37 Opening learning2learn/Buffalo/wcst-nhp/derivatives/SA/sess-20180918/ephys/chan-21/notch-mne/HPF-30/LPF-70/sub-SA_sess-20180918_chan-21_notch-mne_HPF-30_LPF-70.mat\n",
      "38 Opening learning2learn/Buffalo/wcst-nhp/derivatives/SA/sess-20180918/ephys/chan-22/notch-mne/HPF-30/LPF-70/sub-SA_sess-20180918_chan-22_notch-mne_HPF-30_LPF-70.mat\n",
      "39 Opening learning2learn/Buffalo/wcst-nhp/derivatives/SA/sess-20180918/ephys/chan-23/notch-mne/HPF-30/LPF-70/sub-SA_sess-20180918_chan-23_notch-mne_HPF-30_LPF-70.mat\n",
      "40 Opening learning2learn/Buffalo/wcst-nhp/derivatives/SA/sess-20180918/ephys/chan-24/notch-mne/HPF-30/LPF-70/sub-SA_sess-20180918_chan-24_notch-mne_HPF-30_LPF-70.mat\n",
      "41 Opening learning2learn/Buffalo/wcst-nhp/derivatives/SA/sess-20180918/ephys/chan-25/notch-mne/HPF-30/LPF-70/sub-SA_sess-20180918_chan-25_notch-mne_HPF-30_LPF-70.mat\n",
      "42 Opening learning2learn/Buffalo/wcst-nhp/derivatives/SA/sess-20180918/ephys/chan-26/notch-mne/HPF-30/LPF-70/sub-SA_sess-20180918_chan-26_notch-mne_HPF-30_LPF-70.mat\n",
      "43 Opening learning2learn/Buffalo/wcst-nhp/derivatives/SA/sess-20180918/ephys/chan-27/notch-mne/HPF-30/LPF-70/sub-SA_sess-20180918_chan-27_notch-mne_HPF-30_LPF-70.mat\n",
      "44 Opening learning2learn/Buffalo/wcst-nhp/derivatives/SA/sess-20180918/ephys/chan-28/notch-mne/HPF-30/LPF-70/sub-SA_sess-20180918_chan-28_notch-mne_HPF-30_LPF-70.mat\n",
      "45 Opening learning2learn/Buffalo/wcst-nhp/derivatives/SA/sess-20180918/ephys/chan-29/notch-mne/HPF-30/LPF-70/sub-SA_sess-20180918_chan-29_notch-mne_HPF-30_LPF-70.mat\n",
      "46 Opening learning2learn/Buffalo/wcst-nhp/derivatives/SA/sess-20180918/ephys/chan-3/notch-mne/HPF-30/LPF-70/sub-SA_sess-20180918_chan-3_notch-mne_HPF-30_LPF-70.mat\n",
      "47 Opening learning2learn/Buffalo/wcst-nhp/derivatives/SA/sess-20180918/ephys/chan-30/notch-mne/HPF-30/LPF-70/sub-SA_sess-20180918_chan-30_notch-mne_HPF-30_LPF-70.mat\n",
      "48 Opening learning2learn/Buffalo/wcst-nhp/derivatives/SA/sess-20180918/ephys/chan-31/notch-mne/HPF-30/LPF-70/sub-SA_sess-20180918_chan-31_notch-mne_HPF-30_LPF-70.mat\n"
     ]
    },
    {
     "name": "stdout",
     "output_type": "stream",
     "text": [
      "49 Opening learning2learn/Buffalo/wcst-nhp/derivatives/SA/sess-20180918/ephys/chan-32/notch-mne/HPF-30/LPF-70/sub-SA_sess-20180918_chan-32_notch-mne_HPF-30_LPF-70.mat\n",
      "50 Opening learning2learn/Buffalo/wcst-nhp/derivatives/SA/sess-20180918/ephys/chan-33/notch-mne/HPF-30/LPF-70/sub-SA_sess-20180918_chan-33_notch-mne_HPF-30_LPF-70.mat\n",
      "51 Opening learning2learn/Buffalo/wcst-nhp/derivatives/SA/sess-20180918/ephys/chan-35/notch-mne/HPF-30/LPF-70/sub-SA_sess-20180918_chan-35_notch-mne_HPF-30_LPF-70.mat\n",
      "52 Opening learning2learn/Buffalo/wcst-nhp/derivatives/SA/sess-20180918/ephys/chan-36/notch-mne/HPF-30/LPF-70/sub-SA_sess-20180918_chan-36_notch-mne_HPF-30_LPF-70.mat\n",
      "53 Opening learning2learn/Buffalo/wcst-nhp/derivatives/SA/sess-20180918/ephys/chan-37/notch-mne/HPF-30/LPF-70/sub-SA_sess-20180918_chan-37_notch-mne_HPF-30_LPF-70.mat\n",
      "54 Opening learning2learn/Buffalo/wcst-nhp/derivatives/SA/sess-20180918/ephys/chan-38/notch-mne/HPF-30/LPF-70/sub-SA_sess-20180918_chan-38_notch-mne_HPF-30_LPF-70.mat\n",
      "55 Opening learning2learn/Buffalo/wcst-nhp/derivatives/SA/sess-20180918/ephys/chan-39/notch-mne/HPF-30/LPF-70/sub-SA_sess-20180918_chan-39_notch-mne_HPF-30_LPF-70.mat\n",
      "56 Opening learning2learn/Buffalo/wcst-nhp/derivatives/SA/sess-20180918/ephys/chan-4/notch-mne/HPF-30/LPF-70/sub-SA_sess-20180918_chan-4_notch-mne_HPF-30_LPF-70.mat\n",
      "57 Opening learning2learn/Buffalo/wcst-nhp/derivatives/SA/sess-20180918/ephys/chan-40/notch-mne/HPF-30/LPF-70/sub-SA_sess-20180918_chan-40_notch-mne_HPF-30_LPF-70.mat\n",
      "58 Opening learning2learn/Buffalo/wcst-nhp/derivatives/SA/sess-20180918/ephys/chan-41/notch-mne/HPF-30/LPF-70/sub-SA_sess-20180918_chan-41_notch-mne_HPF-30_LPF-70.mat\n",
      "59 Opening learning2learn/Buffalo/wcst-nhp/derivatives/SA/sess-20180918/ephys/chan-42/notch-mne/HPF-30/LPF-70/sub-SA_sess-20180918_chan-42_notch-mne_HPF-30_LPF-70.mat\n",
      "60 Opening learning2learn/Buffalo/wcst-nhp/derivatives/SA/sess-20180918/ephys/chan-43/notch-mne/HPF-30/LPF-70/sub-SA_sess-20180918_chan-43_notch-mne_HPF-30_LPF-70.mat\n",
      "61 Opening learning2learn/Buffalo/wcst-nhp/derivatives/SA/sess-20180918/ephys/chan-45/notch-mne/HPF-30/LPF-70/sub-SA_sess-20180918_chan-45_notch-mne_HPF-30_LPF-70.mat\n",
      "62 Opening learning2learn/Buffalo/wcst-nhp/derivatives/SA/sess-20180918/ephys/chan-47/notch-mne/HPF-30/LPF-70/sub-SA_sess-20180918_chan-47_notch-mne_HPF-30_LPF-70.mat\n",
      "63 Opening learning2learn/Buffalo/wcst-nhp/derivatives/SA/sess-20180918/ephys/chan-48/notch-mne/HPF-30/LPF-70/sub-SA_sess-20180918_chan-48_notch-mne_HPF-30_LPF-70.mat\n",
      "64 Opening learning2learn/Buffalo/wcst-nhp/derivatives/SA/sess-20180918/ephys/chan-49/notch-mne/HPF-30/LPF-70/sub-SA_sess-20180918_chan-49_notch-mne_HPF-30_LPF-70.mat\n",
      "65 Opening learning2learn/Buffalo/wcst-nhp/derivatives/SA/sess-20180918/ephys/chan-5/notch-mne/HPF-30/LPF-70/sub-SA_sess-20180918_chan-5_notch-mne_HPF-30_LPF-70.mat\n",
      "66 Opening learning2learn/Buffalo/wcst-nhp/derivatives/SA/sess-20180918/ephys/chan-50/notch-mne/HPF-30/LPF-70/sub-SA_sess-20180918_chan-50_notch-mne_HPF-30_LPF-70.mat\n",
      "67 Opening learning2learn/Buffalo/wcst-nhp/derivatives/SA/sess-20180918/ephys/chan-51/notch-mne/HPF-30/LPF-70/sub-SA_sess-20180918_chan-51_notch-mne_HPF-30_LPF-70.mat\n",
      "68 Opening learning2learn/Buffalo/wcst-nhp/derivatives/SA/sess-20180918/ephys/chan-52/notch-mne/HPF-30/LPF-70/sub-SA_sess-20180918_chan-52_notch-mne_HPF-30_LPF-70.mat\n",
      "69 Opening learning2learn/Buffalo/wcst-nhp/derivatives/SA/sess-20180918/ephys/chan-53/notch-mne/HPF-30/LPF-70/sub-SA_sess-20180918_chan-53_notch-mne_HPF-30_LPF-70.mat\n",
      "70 Opening learning2learn/Buffalo/wcst-nhp/derivatives/SA/sess-20180918/ephys/chan-54/notch-mne/HPF-30/LPF-70/sub-SA_sess-20180918_chan-54_notch-mne_HPF-30_LPF-70.mat\n",
      "71 Opening learning2learn/Buffalo/wcst-nhp/derivatives/SA/sess-20180918/ephys/chan-56/notch-mne/HPF-30/LPF-70/sub-SA_sess-20180918_chan-56_notch-mne_HPF-30_LPF-70.mat\n",
      "72 Opening learning2learn/Buffalo/wcst-nhp/derivatives/SA/sess-20180918/ephys/chan-57/notch-mne/HPF-30/LPF-70/sub-SA_sess-20180918_chan-57_notch-mne_HPF-30_LPF-70.mat\n",
      "73 Opening learning2learn/Buffalo/wcst-nhp/derivatives/SA/sess-20180918/ephys/chan-58/notch-mne/HPF-30/LPF-70/sub-SA_sess-20180918_chan-58_notch-mne_HPF-30_LPF-70.mat\n",
      "74 Opening learning2learn/Buffalo/wcst-nhp/derivatives/SA/sess-20180918/ephys/chan-59/notch-mne/HPF-30/LPF-70/sub-SA_sess-20180918_chan-59_notch-mne_HPF-30_LPF-70.mat\n",
      "75 Opening learning2learn/Buffalo/wcst-nhp/derivatives/SA/sess-20180918/ephys/chan-6/notch-mne/HPF-30/LPF-70/sub-SA_sess-20180918_chan-6_notch-mne_HPF-30_LPF-70.mat\n",
      "76 Opening learning2learn/Buffalo/wcst-nhp/derivatives/SA/sess-20180918/ephys/chan-60/notch-mne/HPF-30/LPF-70/sub-SA_sess-20180918_chan-60_notch-mne_HPF-30_LPF-70.mat\n",
      "77 Opening learning2learn/Buffalo/wcst-nhp/derivatives/SA/sess-20180918/ephys/chan-61/notch-mne/HPF-30/LPF-70/sub-SA_sess-20180918_chan-61_notch-mne_HPF-30_LPF-70.mat\n",
      "78 Opening learning2learn/Buffalo/wcst-nhp/derivatives/SA/sess-20180918/ephys/chan-62/notch-mne/HPF-30/LPF-70/sub-SA_sess-20180918_chan-62_notch-mne_HPF-30_LPF-70.mat\n",
      "79 Opening learning2learn/Buffalo/wcst-nhp/derivatives/SA/sess-20180918/ephys/chan-63/notch-mne/HPF-30/LPF-70/sub-SA_sess-20180918_chan-63_notch-mne_HPF-30_LPF-70.mat\n",
      "80 Opening learning2learn/Buffalo/wcst-nhp/derivatives/SA/sess-20180918/ephys/chan-64/notch-mne/HPF-30/LPF-70/sub-SA_sess-20180918_chan-64_notch-mne_HPF-30_LPF-70.mat\n",
      "81 Opening learning2learn/Buffalo/wcst-nhp/derivatives/SA/sess-20180918/ephys/chan-65/notch-mne/HPF-30/LPF-70/sub-SA_sess-20180918_chan-65_notch-mne_HPF-30_LPF-70.mat\n",
      "82 Opening learning2learn/Buffalo/wcst-nhp/derivatives/SA/sess-20180918/ephys/chan-66/notch-mne/HPF-30/LPF-70/sub-SA_sess-20180918_chan-66_notch-mne_HPF-30_LPF-70.mat\n",
      "83 Opening learning2learn/Buffalo/wcst-nhp/derivatives/SA/sess-20180918/ephys/chan-67/notch-mne/HPF-30/LPF-70/sub-SA_sess-20180918_chan-67_notch-mne_HPF-30_LPF-70.mat\n",
      "84 Opening learning2learn/Buffalo/wcst-nhp/derivatives/SA/sess-20180918/ephys/chan-69/notch-mne/HPF-30/LPF-70/sub-SA_sess-20180918_chan-69_notch-mne_HPF-30_LPF-70.mat\n",
      "85 Opening learning2learn/Buffalo/wcst-nhp/derivatives/SA/sess-20180918/ephys/chan-7/notch-mne/HPF-30/LPF-70/sub-SA_sess-20180918_chan-7_notch-mne_HPF-30_LPF-70.mat\n",
      "86 Opening learning2learn/Buffalo/wcst-nhp/derivatives/SA/sess-20180918/ephys/chan-70/notch-mne/HPF-30/LPF-70/sub-SA_sess-20180918_chan-70_notch-mne_HPF-30_LPF-70.mat\n",
      "87 Opening learning2learn/Buffalo/wcst-nhp/derivatives/SA/sess-20180918/ephys/chan-71/notch-mne/HPF-30/LPF-70/sub-SA_sess-20180918_chan-71_notch-mne_HPF-30_LPF-70.mat\n",
      "88 Opening learning2learn/Buffalo/wcst-nhp/derivatives/SA/sess-20180918/ephys/chan-74/notch-mne/HPF-30/LPF-70/sub-SA_sess-20180918_chan-74_notch-mne_HPF-30_LPF-70.mat\n",
      "89 Opening learning2learn/Buffalo/wcst-nhp/derivatives/SA/sess-20180918/ephys/chan-75/notch-mne/HPF-30/LPF-70/sub-SA_sess-20180918_chan-75_notch-mne_HPF-30_LPF-70.mat\n",
      "90 Opening learning2learn/Buffalo/wcst-nhp/derivatives/SA/sess-20180918/ephys/chan-76/notch-mne/HPF-30/LPF-70/sub-SA_sess-20180918_chan-76_notch-mne_HPF-30_LPF-70.mat\n",
      "91 Opening learning2learn/Buffalo/wcst-nhp/derivatives/SA/sess-20180918/ephys/chan-77/notch-mne/HPF-30/LPF-70/sub-SA_sess-20180918_chan-77_notch-mne_HPF-30_LPF-70.mat\n",
      "92 Opening learning2learn/Buffalo/wcst-nhp/derivatives/SA/sess-20180918/ephys/chan-79/notch-mne/HPF-30/LPF-70/sub-SA_sess-20180918_chan-79_notch-mne_HPF-30_LPF-70.mat\n",
      "93 Opening learning2learn/Buffalo/wcst-nhp/derivatives/SA/sess-20180918/ephys/chan-8/notch-mne/HPF-30/LPF-70/sub-SA_sess-20180918_chan-8_notch-mne_HPF-30_LPF-70.mat\n",
      "94 Opening learning2learn/Buffalo/wcst-nhp/derivatives/SA/sess-20180918/ephys/chan-80/notch-mne/HPF-30/LPF-70/sub-SA_sess-20180918_chan-80_notch-mne_HPF-30_LPF-70.mat\n",
      "95 Opening learning2learn/Buffalo/wcst-nhp/derivatives/SA/sess-20180918/ephys/chan-82/notch-mne/HPF-30/LPF-70/sub-SA_sess-20180918_chan-82_notch-mne_HPF-30_LPF-70.mat\n",
      "96 Opening learning2learn/Buffalo/wcst-nhp/derivatives/SA/sess-20180918/ephys/chan-83/notch-mne/HPF-30/LPF-70/sub-SA_sess-20180918_chan-83_notch-mne_HPF-30_LPF-70.mat\n",
      "97 Opening learning2learn/Buffalo/wcst-nhp/derivatives/SA/sess-20180918/ephys/chan-84/notch-mne/HPF-30/LPF-70/sub-SA_sess-20180918_chan-84_notch-mne_HPF-30_LPF-70.mat\n",
      "98 Opening learning2learn/Buffalo/wcst-nhp/derivatives/SA/sess-20180918/ephys/chan-85/notch-mne/HPF-30/LPF-70/sub-SA_sess-20180918_chan-85_notch-mne_HPF-30_LPF-70.mat\n"
     ]
    },
    {
     "name": "stdout",
     "output_type": "stream",
     "text": [
      "99 Opening learning2learn/Buffalo/wcst-nhp/derivatives/SA/sess-20180918/ephys/chan-86/notch-mne/HPF-30/LPF-70/sub-SA_sess-20180918_chan-86_notch-mne_HPF-30_LPF-70.mat\n",
      "100 Opening learning2learn/Buffalo/wcst-nhp/derivatives/SA/sess-20180918/ephys/chan-87/notch-mne/HPF-30/LPF-70/sub-SA_sess-20180918_chan-87_notch-mne_HPF-30_LPF-70.mat\n",
      "101 Opening learning2learn/Buffalo/wcst-nhp/derivatives/SA/sess-20180918/ephys/chan-88/notch-mne/HPF-30/LPF-70/sub-SA_sess-20180918_chan-88_notch-mne_HPF-30_LPF-70.mat\n",
      "102 Opening learning2learn/Buffalo/wcst-nhp/derivatives/SA/sess-20180918/ephys/chan-89/notch-mne/HPF-30/LPF-70/sub-SA_sess-20180918_chan-89_notch-mne_HPF-30_LPF-70.mat\n",
      "103 Opening learning2learn/Buffalo/wcst-nhp/derivatives/SA/sess-20180918/ephys/chan-9/notch-mne/HPF-30/LPF-70/sub-SA_sess-20180918_chan-9_notch-mne_HPF-30_LPF-70.mat\n",
      "104 Opening learning2learn/Buffalo/wcst-nhp/derivatives/SA/sess-20180918/ephys/chan-90/notch-mne/HPF-30/LPF-70/sub-SA_sess-20180918_chan-90_notch-mne_HPF-30_LPF-70.mat\n",
      "105 Opening learning2learn/Buffalo/wcst-nhp/derivatives/SA/sess-20180918/ephys/chan-91/notch-mne/HPF-30/LPF-70/sub-SA_sess-20180918_chan-91_notch-mne_HPF-30_LPF-70.mat\n",
      "106 Opening learning2learn/Buffalo/wcst-nhp/derivatives/SA/sess-20180918/ephys/chan-92/notch-mne/HPF-30/LPF-70/sub-SA_sess-20180918_chan-92_notch-mne_HPF-30_LPF-70.mat\n",
      "107 Opening learning2learn/Buffalo/wcst-nhp/derivatives/SA/sess-20180918/ephys/chan-93/notch-mne/HPF-30/LPF-70/sub-SA_sess-20180918_chan-93_notch-mne_HPF-30_LPF-70.mat\n",
      "108 Opening learning2learn/Buffalo/wcst-nhp/derivatives/SA/sess-20180918/ephys/chan-95/notch-mne/HPF-30/LPF-70/sub-SA_sess-20180918_chan-95_notch-mne_HPF-30_LPF-70.mat\n",
      "109 Opening learning2learn/Buffalo/wcst-nhp/derivatives/SA/sess-20180918/ephys/chan-96/notch-mne/HPF-30/LPF-70/sub-SA_sess-20180918_chan-96_notch-mne_HPF-30_LPF-70.mat\n",
      "110 Opening learning2learn/Buffalo/wcst-nhp/derivatives/SA/sess-20180918/ephys/chan-97/notch-mne/HPF-30/LPF-70/sub-SA_sess-20180918_chan-97_notch-mne_HPF-30_LPF-70.mat\n",
      "111 Opening learning2learn/Buffalo/wcst-nhp/derivatives/SA/sess-20180918/ephys/chan-98/notch-mne/HPF-30/LPF-70/sub-SA_sess-20180918_chan-98_notch-mne_HPF-30_LPF-70.mat\n",
      "112 Opening learning2learn/Buffalo/wcst-nhp/derivatives/SA/sess-20180918/ephys/chan-99/notch-mne/HPF-30/LPF-70/sub-SA_sess-20180918_chan-99_notch-mne_HPF-30_LPF-70.mat\n"
     ]
    }
   ],
   "source": [
    "data_1 = np.empty((len(filenames_1), 11796177))\n",
    "dataNames_1 = []\n",
    "\n",
    "for i in range(len(filenames_1)):\n",
    "    filename = filenames_1[i]\n",
    "    print(str(i), f\"Opening {filename}\")\n",
    "    data_1[i] = open_h5py_file(filename, fs)\n",
    "    dataNames_1.append(filename.split('/chan-')[1].split('/')[0])"
   ]
  },
  {
   "cell_type": "code",
   "execution_count": 32,
   "metadata": {
    "collapsed": true
   },
   "outputs": [
    {
     "name": "stdout",
     "output_type": "stream",
     "text": [
      "0 Opening learning2learn/Buffalo/wcst-nhp/derivatives/SA/sess-20180918/ephys/chan-10a/notch-mne/HPF-30/LPF-70/sub-SA_sess-20180918_chan-10a_notch-mne_HPF-30_LPF-70.mat\n",
      "1 Opening learning2learn/Buffalo/wcst-nhp/derivatives/SA/sess-20180918/ephys/chan-13a/notch-mne/HPF-30/LPF-70/sub-SA_sess-20180918_chan-13a_notch-mne_HPF-30_LPF-70.mat\n",
      "2 Opening learning2learn/Buffalo/wcst-nhp/derivatives/SA/sess-20180918/ephys/chan-14a/notch-mne/HPF-30/LPF-70/sub-SA_sess-20180918_chan-14a_notch-mne_HPF-30_LPF-70.mat\n",
      "3 Opening learning2learn/Buffalo/wcst-nhp/derivatives/SA/sess-20180918/ephys/chan-16a/notch-mne/HPF-30/LPF-70/sub-SA_sess-20180918_chan-16a_notch-mne_HPF-30_LPF-70.mat\n",
      "4 Opening learning2learn/Buffalo/wcst-nhp/derivatives/SA/sess-20180918/ephys/chan-18a/notch-mne/HPF-30/LPF-70/sub-SA_sess-20180918_chan-18a_notch-mne_HPF-30_LPF-70.mat\n",
      "5 Opening learning2learn/Buffalo/wcst-nhp/derivatives/SA/sess-20180918/ephys/chan-1a/notch-mne/HPF-30/LPF-70/sub-SA_sess-20180918_chan-1a_notch-mne_HPF-30_LPF-70.mat\n",
      "6 Opening learning2learn/Buffalo/wcst-nhp/derivatives/SA/sess-20180918/ephys/chan-20a/notch-mne/HPF-30/LPF-70/sub-SA_sess-20180918_chan-20a_notch-mne_HPF-30_LPF-70.mat\n",
      "7 Opening learning2learn/Buffalo/wcst-nhp/derivatives/SA/sess-20180918/ephys/chan-21a/notch-mne/HPF-30/LPF-70/sub-SA_sess-20180918_chan-21a_notch-mne_HPF-30_LPF-70.mat\n",
      "8 Opening learning2learn/Buffalo/wcst-nhp/derivatives/SA/sess-20180918/ephys/chan-22a/notch-mne/HPF-30/LPF-70/sub-SA_sess-20180918_chan-22a_notch-mne_HPF-30_LPF-70.mat\n",
      "9 Opening learning2learn/Buffalo/wcst-nhp/derivatives/SA/sess-20180918/ephys/chan-23a/notch-mne/HPF-30/LPF-70/sub-SA_sess-20180918_chan-23a_notch-mne_HPF-30_LPF-70.mat\n",
      "10 Opening learning2learn/Buffalo/wcst-nhp/derivatives/SA/sess-20180918/ephys/chan-24a/notch-mne/HPF-30/LPF-70/sub-SA_sess-20180918_chan-24a_notch-mne_HPF-30_LPF-70.mat\n",
      "11 Opening learning2learn/Buffalo/wcst-nhp/derivatives/SA/sess-20180918/ephys/chan-25a/notch-mne/HPF-30/LPF-70/sub-SA_sess-20180918_chan-25a_notch-mne_HPF-30_LPF-70.mat\n",
      "12 Opening learning2learn/Buffalo/wcst-nhp/derivatives/SA/sess-20180918/ephys/chan-26a/notch-mne/HPF-30/LPF-70/sub-SA_sess-20180918_chan-26a_notch-mne_HPF-30_LPF-70.mat\n",
      "13 Opening learning2learn/Buffalo/wcst-nhp/derivatives/SA/sess-20180918/ephys/chan-27a/notch-mne/HPF-30/LPF-70/sub-SA_sess-20180918_chan-27a_notch-mne_HPF-30_LPF-70.mat\n",
      "14 Opening learning2learn/Buffalo/wcst-nhp/derivatives/SA/sess-20180918/ephys/chan-28a/notch-mne/HPF-30/LPF-70/sub-SA_sess-20180918_chan-28a_notch-mne_HPF-30_LPF-70.mat\n",
      "15 Opening learning2learn/Buffalo/wcst-nhp/derivatives/SA/sess-20180918/ephys/chan-29a/notch-mne/HPF-30/LPF-70/sub-SA_sess-20180918_chan-29a_notch-mne_HPF-30_LPF-70.mat\n",
      "16 Opening learning2learn/Buffalo/wcst-nhp/derivatives/SA/sess-20180918/ephys/chan-2a/notch-mne/HPF-30/LPF-70/sub-SA_sess-20180918_chan-2a_notch-mne_HPF-30_LPF-70.mat\n",
      "17 Opening learning2learn/Buffalo/wcst-nhp/derivatives/SA/sess-20180918/ephys/chan-30a/notch-mne/HPF-30/LPF-70/sub-SA_sess-20180918_chan-30a_notch-mne_HPF-30_LPF-70.mat\n",
      "18 Opening learning2learn/Buffalo/wcst-nhp/derivatives/SA/sess-20180918/ephys/chan-32a/notch-mne/HPF-30/LPF-70/sub-SA_sess-20180918_chan-32a_notch-mne_HPF-30_LPF-70.mat\n",
      "19 Opening learning2learn/Buffalo/wcst-nhp/derivatives/SA/sess-20180918/ephys/chan-33a/notch-mne/HPF-30/LPF-70/sub-SA_sess-20180918_chan-33a_notch-mne_HPF-30_LPF-70.mat\n",
      "20 Opening learning2learn/Buffalo/wcst-nhp/derivatives/SA/sess-20180918/ephys/chan-35a/notch-mne/HPF-30/LPF-70/sub-SA_sess-20180918_chan-35a_notch-mne_HPF-30_LPF-70.mat\n",
      "21 Opening learning2learn/Buffalo/wcst-nhp/derivatives/SA/sess-20180918/ephys/chan-36a/notch-mne/HPF-30/LPF-70/sub-SA_sess-20180918_chan-36a_notch-mne_HPF-30_LPF-70.mat\n",
      "22 Opening learning2learn/Buffalo/wcst-nhp/derivatives/SA/sess-20180918/ephys/chan-37a/notch-mne/HPF-30/LPF-70/sub-SA_sess-20180918_chan-37a_notch-mne_HPF-30_LPF-70.mat\n",
      "23 Opening learning2learn/Buffalo/wcst-nhp/derivatives/SA/sess-20180918/ephys/chan-39a/notch-mne/HPF-30/LPF-70/sub-SA_sess-20180918_chan-39a_notch-mne_HPF-30_LPF-70.mat\n",
      "24 Opening learning2learn/Buffalo/wcst-nhp/derivatives/SA/sess-20180918/ephys/chan-3a/notch-mne/HPF-30/LPF-70/sub-SA_sess-20180918_chan-3a_notch-mne_HPF-30_LPF-70.mat\n",
      "25 Opening learning2learn/Buffalo/wcst-nhp/derivatives/SA/sess-20180918/ephys/chan-40a/notch-mne/HPF-30/LPF-70/sub-SA_sess-20180918_chan-40a_notch-mne_HPF-30_LPF-70.mat\n",
      "26 Opening learning2learn/Buffalo/wcst-nhp/derivatives/SA/sess-20180918/ephys/chan-42a/notch-mne/HPF-30/LPF-70/sub-SA_sess-20180918_chan-42a_notch-mne_HPF-30_LPF-70.mat\n",
      "27 Opening learning2learn/Buffalo/wcst-nhp/derivatives/SA/sess-20180918/ephys/chan-43a/notch-mne/HPF-30/LPF-70/sub-SA_sess-20180918_chan-43a_notch-mne_HPF-30_LPF-70.mat\n",
      "28 Opening learning2learn/Buffalo/wcst-nhp/derivatives/SA/sess-20180918/ephys/chan-44a/notch-mne/HPF-30/LPF-70/sub-SA_sess-20180918_chan-44a_notch-mne_HPF-30_LPF-70.mat\n",
      "29 Opening learning2learn/Buffalo/wcst-nhp/derivatives/SA/sess-20180918/ephys/chan-45a/notch-mne/HPF-30/LPF-70/sub-SA_sess-20180918_chan-45a_notch-mne_HPF-30_LPF-70.mat\n",
      "30 Opening learning2learn/Buffalo/wcst-nhp/derivatives/SA/sess-20180918/ephys/chan-47a/notch-mne/HPF-30/LPF-70/sub-SA_sess-20180918_chan-47a_notch-mne_HPF-30_LPF-70.mat\n",
      "31 Opening learning2learn/Buffalo/wcst-nhp/derivatives/SA/sess-20180918/ephys/chan-48a/notch-mne/HPF-30/LPF-70/sub-SA_sess-20180918_chan-48a_notch-mne_HPF-30_LPF-70.mat\n",
      "32 Opening learning2learn/Buffalo/wcst-nhp/derivatives/SA/sess-20180918/ephys/chan-49a/notch-mne/HPF-30/LPF-70/sub-SA_sess-20180918_chan-49a_notch-mne_HPF-30_LPF-70.mat\n",
      "33 Opening learning2learn/Buffalo/wcst-nhp/derivatives/SA/sess-20180918/ephys/chan-4a/notch-mne/HPF-30/LPF-70/sub-SA_sess-20180918_chan-4a_notch-mne_HPF-30_LPF-70.mat\n",
      "34 Opening learning2learn/Buffalo/wcst-nhp/derivatives/SA/sess-20180918/ephys/chan-51a/notch-mne/HPF-30/LPF-70/sub-SA_sess-20180918_chan-51a_notch-mne_HPF-30_LPF-70.mat\n",
      "35 Opening learning2learn/Buffalo/wcst-nhp/derivatives/SA/sess-20180918/ephys/chan-52a/notch-mne/HPF-30/LPF-70/sub-SA_sess-20180918_chan-52a_notch-mne_HPF-30_LPF-70.mat\n",
      "36 Opening learning2learn/Buffalo/wcst-nhp/derivatives/SA/sess-20180918/ephys/chan-54a/notch-mne/HPF-30/LPF-70/sub-SA_sess-20180918_chan-54a_notch-mne_HPF-30_LPF-70.mat\n",
      "37 Opening learning2learn/Buffalo/wcst-nhp/derivatives/SA/sess-20180918/ephys/chan-55a/notch-mne/HPF-30/LPF-70/sub-SA_sess-20180918_chan-55a_notch-mne_HPF-30_LPF-70.mat\n",
      "38 Opening learning2learn/Buffalo/wcst-nhp/derivatives/SA/sess-20180918/ephys/chan-56a/notch-mne/HPF-30/LPF-70/sub-SA_sess-20180918_chan-56a_notch-mne_HPF-30_LPF-70.mat\n",
      "39 Opening learning2learn/Buffalo/wcst-nhp/derivatives/SA/sess-20180918/ephys/chan-57a/notch-mne/HPF-30/LPF-70/sub-SA_sess-20180918_chan-57a_notch-mne_HPF-30_LPF-70.mat\n",
      "40 Opening learning2learn/Buffalo/wcst-nhp/derivatives/SA/sess-20180918/ephys/chan-58a/notch-mne/HPF-30/LPF-70/sub-SA_sess-20180918_chan-58a_notch-mne_HPF-30_LPF-70.mat\n",
      "41 Opening learning2learn/Buffalo/wcst-nhp/derivatives/SA/sess-20180918/ephys/chan-5a/notch-mne/HPF-30/LPF-70/sub-SA_sess-20180918_chan-5a_notch-mne_HPF-30_LPF-70.mat\n",
      "42 Opening learning2learn/Buffalo/wcst-nhp/derivatives/SA/sess-20180918/ephys/chan-60a/notch-mne/HPF-30/LPF-70/sub-SA_sess-20180918_chan-60a_notch-mne_HPF-30_LPF-70.mat\n",
      "43 Opening learning2learn/Buffalo/wcst-nhp/derivatives/SA/sess-20180918/ephys/chan-62a/notch-mne/HPF-30/LPF-70/sub-SA_sess-20180918_chan-62a_notch-mne_HPF-30_LPF-70.mat\n",
      "44 Opening learning2learn/Buffalo/wcst-nhp/derivatives/SA/sess-20180918/ephys/chan-63a/notch-mne/HPF-30/LPF-70/sub-SA_sess-20180918_chan-63a_notch-mne_HPF-30_LPF-70.mat\n",
      "45 Opening learning2learn/Buffalo/wcst-nhp/derivatives/SA/sess-20180918/ephys/chan-64a/notch-mne/HPF-30/LPF-70/sub-SA_sess-20180918_chan-64a_notch-mne_HPF-30_LPF-70.mat\n",
      "46 Opening learning2learn/Buffalo/wcst-nhp/derivatives/SA/sess-20180918/ephys/chan-65a/notch-mne/HPF-30/LPF-70/sub-SA_sess-20180918_chan-65a_notch-mne_HPF-30_LPF-70.mat\n",
      "47 Opening learning2learn/Buffalo/wcst-nhp/derivatives/SA/sess-20180918/ephys/chan-66a/notch-mne/HPF-30/LPF-70/sub-SA_sess-20180918_chan-66a_notch-mne_HPF-30_LPF-70.mat\n",
      "48 Opening learning2learn/Buffalo/wcst-nhp/derivatives/SA/sess-20180918/ephys/chan-67a/notch-mne/HPF-30/LPF-70/sub-SA_sess-20180918_chan-67a_notch-mne_HPF-30_LPF-70.mat\n"
     ]
    },
    {
     "name": "stdout",
     "output_type": "stream",
     "text": [
      "49 Opening learning2learn/Buffalo/wcst-nhp/derivatives/SA/sess-20180918/ephys/chan-68a/notch-mne/HPF-30/LPF-70/sub-SA_sess-20180918_chan-68a_notch-mne_HPF-30_LPF-70.mat\n",
      "50 Opening learning2learn/Buffalo/wcst-nhp/derivatives/SA/sess-20180918/ephys/chan-69a/notch-mne/HPF-30/LPF-70/sub-SA_sess-20180918_chan-69a_notch-mne_HPF-30_LPF-70.mat\n",
      "51 Opening learning2learn/Buffalo/wcst-nhp/derivatives/SA/sess-20180918/ephys/chan-6a/notch-mne/HPF-30/LPF-70/sub-SA_sess-20180918_chan-6a_notch-mne_HPF-30_LPF-70.mat\n",
      "52 Opening learning2learn/Buffalo/wcst-nhp/derivatives/SA/sess-20180918/ephys/chan-70a/notch-mne/HPF-30/LPF-70/sub-SA_sess-20180918_chan-70a_notch-mne_HPF-30_LPF-70.mat\n",
      "53 Opening learning2learn/Buffalo/wcst-nhp/derivatives/SA/sess-20180918/ephys/chan-71a/notch-mne/HPF-30/LPF-70/sub-SA_sess-20180918_chan-71a_notch-mne_HPF-30_LPF-70.mat\n",
      "54 Opening learning2learn/Buffalo/wcst-nhp/derivatives/SA/sess-20180918/ephys/chan-72a/notch-mne/HPF-30/LPF-70/sub-SA_sess-20180918_chan-72a_notch-mne_HPF-30_LPF-70.mat\n",
      "55 Opening learning2learn/Buffalo/wcst-nhp/derivatives/SA/sess-20180918/ephys/chan-73a/notch-mne/HPF-30/LPF-70/sub-SA_sess-20180918_chan-73a_notch-mne_HPF-30_LPF-70.mat\n",
      "56 Opening learning2learn/Buffalo/wcst-nhp/derivatives/SA/sess-20180918/ephys/chan-74a/notch-mne/HPF-30/LPF-70/sub-SA_sess-20180918_chan-74a_notch-mne_HPF-30_LPF-70.mat\n",
      "57 Opening learning2learn/Buffalo/wcst-nhp/derivatives/SA/sess-20180918/ephys/chan-75a/notch-mne/HPF-30/LPF-70/sub-SA_sess-20180918_chan-75a_notch-mne_HPF-30_LPF-70.mat\n",
      "58 Opening learning2learn/Buffalo/wcst-nhp/derivatives/SA/sess-20180918/ephys/chan-76a/notch-mne/HPF-30/LPF-70/sub-SA_sess-20180918_chan-76a_notch-mne_HPF-30_LPF-70.mat\n",
      "59 Opening learning2learn/Buffalo/wcst-nhp/derivatives/SA/sess-20180918/ephys/chan-77a/notch-mne/HPF-30/LPF-70/sub-SA_sess-20180918_chan-77a_notch-mne_HPF-30_LPF-70.mat\n",
      "60 Opening learning2learn/Buffalo/wcst-nhp/derivatives/SA/sess-20180918/ephys/chan-78a/notch-mne/HPF-30/LPF-70/sub-SA_sess-20180918_chan-78a_notch-mne_HPF-30_LPF-70.mat\n",
      "61 Opening learning2learn/Buffalo/wcst-nhp/derivatives/SA/sess-20180918/ephys/chan-79a/notch-mne/HPF-30/LPF-70/sub-SA_sess-20180918_chan-79a_notch-mne_HPF-30_LPF-70.mat\n",
      "62 Opening learning2learn/Buffalo/wcst-nhp/derivatives/SA/sess-20180918/ephys/chan-7a/notch-mne/HPF-30/LPF-70/sub-SA_sess-20180918_chan-7a_notch-mne_HPF-30_LPF-70.mat\n",
      "63 Opening learning2learn/Buffalo/wcst-nhp/derivatives/SA/sess-20180918/ephys/chan-80a/notch-mne/HPF-30/LPF-70/sub-SA_sess-20180918_chan-80a_notch-mne_HPF-30_LPF-70.mat\n",
      "64 Opening learning2learn/Buffalo/wcst-nhp/derivatives/SA/sess-20180918/ephys/chan-81a/notch-mne/HPF-30/LPF-70/sub-SA_sess-20180918_chan-81a_notch-mne_HPF-30_LPF-70.mat\n",
      "65 Opening learning2learn/Buffalo/wcst-nhp/derivatives/SA/sess-20180918/ephys/chan-82a/notch-mne/HPF-30/LPF-70/sub-SA_sess-20180918_chan-82a_notch-mne_HPF-30_LPF-70.mat\n",
      "66 Opening learning2learn/Buffalo/wcst-nhp/derivatives/SA/sess-20180918/ephys/chan-83a/notch-mne/HPF-30/LPF-70/sub-SA_sess-20180918_chan-83a_notch-mne_HPF-30_LPF-70.mat\n",
      "67 Opening learning2learn/Buffalo/wcst-nhp/derivatives/SA/sess-20180918/ephys/chan-84a/notch-mne/HPF-30/LPF-70/sub-SA_sess-20180918_chan-84a_notch-mne_HPF-30_LPF-70.mat\n",
      "68 Opening learning2learn/Buffalo/wcst-nhp/derivatives/SA/sess-20180918/ephys/chan-85a/notch-mne/HPF-30/LPF-70/sub-SA_sess-20180918_chan-85a_notch-mne_HPF-30_LPF-70.mat\n",
      "69 Opening learning2learn/Buffalo/wcst-nhp/derivatives/SA/sess-20180918/ephys/chan-86a/notch-mne/HPF-30/LPF-70/sub-SA_sess-20180918_chan-86a_notch-mne_HPF-30_LPF-70.mat\n",
      "70 Opening learning2learn/Buffalo/wcst-nhp/derivatives/SA/sess-20180918/ephys/chan-87a/notch-mne/HPF-30/LPF-70/sub-SA_sess-20180918_chan-87a_notch-mne_HPF-30_LPF-70.mat\n",
      "71 Opening learning2learn/Buffalo/wcst-nhp/derivatives/SA/sess-20180918/ephys/chan-88a/notch-mne/HPF-30/LPF-70/sub-SA_sess-20180918_chan-88a_notch-mne_HPF-30_LPF-70.mat\n",
      "72 Opening learning2learn/Buffalo/wcst-nhp/derivatives/SA/sess-20180918/ephys/chan-89a/notch-mne/HPF-30/LPF-70/sub-SA_sess-20180918_chan-89a_notch-mne_HPF-30_LPF-70.mat\n",
      "73 Opening learning2learn/Buffalo/wcst-nhp/derivatives/SA/sess-20180918/ephys/chan-8a/notch-mne/HPF-30/LPF-70/sub-SA_sess-20180918_chan-8a_notch-mne_HPF-30_LPF-70.mat\n",
      "74 Opening learning2learn/Buffalo/wcst-nhp/derivatives/SA/sess-20180918/ephys/chan-90a/notch-mne/HPF-30/LPF-70/sub-SA_sess-20180918_chan-90a_notch-mne_HPF-30_LPF-70.mat\n",
      "75 Opening learning2learn/Buffalo/wcst-nhp/derivatives/SA/sess-20180918/ephys/chan-91a/notch-mne/HPF-30/LPF-70/sub-SA_sess-20180918_chan-91a_notch-mne_HPF-30_LPF-70.mat\n",
      "76 Opening learning2learn/Buffalo/wcst-nhp/derivatives/SA/sess-20180918/ephys/chan-92a/notch-mne/HPF-30/LPF-70/sub-SA_sess-20180918_chan-92a_notch-mne_HPF-30_LPF-70.mat\n",
      "77 Opening learning2learn/Buffalo/wcst-nhp/derivatives/SA/sess-20180918/ephys/chan-93a/notch-mne/HPF-30/LPF-70/sub-SA_sess-20180918_chan-93a_notch-mne_HPF-30_LPF-70.mat\n",
      "78 Opening learning2learn/Buffalo/wcst-nhp/derivatives/SA/sess-20180918/ephys/chan-94a/notch-mne/HPF-30/LPF-70/sub-SA_sess-20180918_chan-94a_notch-mne_HPF-30_LPF-70.mat\n",
      "79 Opening learning2learn/Buffalo/wcst-nhp/derivatives/SA/sess-20180918/ephys/chan-95a/notch-mne/HPF-30/LPF-70/sub-SA_sess-20180918_chan-95a_notch-mne_HPF-30_LPF-70.mat\n",
      "80 Opening learning2learn/Buffalo/wcst-nhp/derivatives/SA/sess-20180918/ephys/chan-96a/notch-mne/HPF-30/LPF-70/sub-SA_sess-20180918_chan-96a_notch-mne_HPF-30_LPF-70.mat\n",
      "81 Opening learning2learn/Buffalo/wcst-nhp/derivatives/SA/sess-20180918/ephys/chan-9a/notch-mne/HPF-30/LPF-70/sub-SA_sess-20180918_chan-9a_notch-mne_HPF-30_LPF-70.mat\n"
     ]
    }
   ],
   "source": [
    "data_2 = np.empty((len(filenames_2), 11796177))\n",
    "dataNames_2 = []\n",
    "\n",
    "for i in range(len(filenames_2)):\n",
    "    filename = filenames_2[i]\n",
    "    print(str(i), f\"Opening {filename}\")\n",
    "    data_2[i] = open_h5py_file(filename, fs)\n",
    "    dataNames_2.append(filename.split('/chan-')[1].split('/')[0])"
   ]
  },
  {
   "cell_type": "code",
   "execution_count": 33,
   "metadata": {},
   "outputs": [],
   "source": [
    "np.save('preICA_1', data_1)\n",
    "np.save('dataNames_1', dataNames_1)\n",
    "np.save('preICA_2', data_2)\n",
    "np.save('dataNames_2', dataNames_2)"
   ]
  },
  {
   "cell_type": "code",
   "execution_count": 34,
   "metadata": {},
   "outputs": [
    {
     "data": {
      "text/plain": [
       "300000"
      ]
     },
     "execution_count": 34,
     "metadata": {},
     "output_type": "execute_result"
    }
   ],
   "source": [
    "5 * 60*1000"
   ]
  },
  {
   "cell_type": "code",
   "execution_count": 38,
   "metadata": {},
   "outputs": [],
   "source": [
    "np.save('small_sample_1', data_1[:,60*60*1000:5*60*1000+60*60*1000])\n",
    "np.save('small_sample_2', data_2[:,60*60*1000:5*60*1000+60*60*1000])"
   ]
  },
  {
   "cell_type": "markdown",
   "metadata": {},
   "source": [
    "Artifact Rejection Full Alg:\n",
    "Can be done in parallel:\n",
    "1. Load data\n",
    "2. Remove data before and after first/last trial\n",
    "3. for each chan, fft and fit 1 / f\n",
    "4. Use 60 Hz metric to remove bad channels\n",
    "5. Notch filter 60 Hz harmonics out\n",
    "6. Bandpass between 1 - 200 Hz\n",
    "7. Save data\n",
    "Non-parallel:\n",
    "8. Load data\n",
    "9. Fit IC's for different number of components\n",
    "10. Make confusion matrix to see which components are stable\n",
    "11. Identify stable artifacts and store them with confidence levels (how certain they are indeed artifacts with no good data)\n",
    "12. Remove unwanted artifacts\n",
    "13. Save clean data"
   ]
  },
  {
   "cell_type": "code",
   "execution_count": 40,
   "metadata": {},
   "outputs": [],
   "source": [
    "data = np.load('preICA.npy')"
   ]
  },
  {
   "cell_type": "code",
   "execution_count": null,
   "metadata": {},
   "outputs": [],
   "source": []
  }
 ],
 "metadata": {
  "kernelspec": {
   "display_name": "Python 3",
   "language": "python",
   "name": "python3"
  },
  "language_info": {
   "codemirror_mode": {
    "name": "ipython",
    "version": 3
   },
   "file_extension": ".py",
   "mimetype": "text/x-python",
   "name": "python",
   "nbconvert_exporter": "python",
   "pygments_lexer": "ipython3",
   "version": "3.7.3"
  }
 },
 "nbformat": 4,
 "nbformat_minor": 4
}
